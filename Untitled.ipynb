{
 "cells": [
  {
   "cell_type": "code",
   "execution_count": 1,
   "metadata": {},
   "outputs": [],
   "source": [
    "import os\n",
    "import pandas as pd"
   ]
  },
  {
   "cell_type": "code",
   "execution_count": 2,
   "metadata": {},
   "outputs": [],
   "source": [
    "# os.chdir('Data/speeches/')\n",
    "os.chdir('Data/')"
   ]
  },
  {
   "cell_type": "code",
   "execution_count": 4,
   "metadata": {},
   "outputs": [],
   "source": [
    "df = pd.read_csv('speakers_1992_2017.csv')\n",
    "for i in range(df.shape[0]):\n",
    "    df['position'] = df['position'].fillna(\"MISSING\").apply(lambda x: x.split(\".\")[0])"
   ]
  },
  {
   "cell_type": "code",
   "execution_count": 5,
   "metadata": {},
   "outputs": [],
   "source": [
    "df.to_csv('speakers_2010_2017.csv', index=False)"
   ]
  },
  {
   "cell_type": "code",
   "execution_count": null,
   "metadata": {},
   "outputs": [],
   "source": [
    "bug_table = {\n",
    "    'year': [],\n",
    "    'num_items': [],\n",
    "    'num_faulty_items': [],\n",
    "    'faulty_items': [],\n",
    "    'faulty_countries': []\n",
    "}\n",
    "years = os.listdir()\n",
    "for year in years:\n",
    "    os.chdir('{}/'.format(year))\n",
    "    print(os.getcwd())\n",
    "    items = os.listdir()\n",
    "    fault_items = []\n",
    "    faulty_counties = []\n",
    "    for item in items:\n",
    "        if \"bug\" in item:\n",
    "            fault_items.append(item)\n",
    "            faulty_counties.append(item.split(\"bug_\")[1].split(\"_\")[0])\n",
    "    bug_table['num_faulty_items'].append(len(fault_items))\n",
    "    bug_table['faulty_countries'].append(faulty_counties)\n",
    "    bug_table['faulty_items'].append(fault_items)\n",
    "    bug_table['year'].append(year)\n",
    "    bug_table['num_items'].append(len(os.listdir())-1)\n",
    "    os.chdir('..')"
   ]
  },
  {
   "cell_type": "code",
   "execution_count": null,
   "metadata": {},
   "outputs": [],
   "source": [
    "pd.DataFrame(bug_table).to_csv('faulty_speeches.csv', index=False)"
   ]
  },
  {
   "cell_type": "code",
   "execution_count": null,
   "metadata": {},
   "outputs": [],
   "source": [
    "for item in items:\n",
    "    if \"bug\" in item:\n",
    "        print(item.split(\"bug_\")[1].split(\"_\")[0])"
   ]
  },
  {
   "cell_type": "code",
   "execution_count": null,
   "metadata": {},
   "outputs": [],
   "source": [
    "os.chdir('..')"
   ]
  },
  {
   "cell_type": "code",
   "execution_count": null,
   "metadata": {},
   "outputs": [],
   "source": [
    "years = os.listdir()\n",
    "for year in years:\n",
    "    os.chdir('{}/'.format(year))\n",
    "    print(os.getcwd())\n",
    "    df = pd.read_csv('{}.csv'.format(year))\n",
    "    for i in range(df.shape[0]):\n",
    "        df['position'] = df['position'].fillna(\"MISSING\").apply(lambda x: x.split(\".\")[0])\n",
    "    df.to_csv('{}.csv'.format(year), index=False)\n",
    "    os.chdir('..')"
   ]
  },
  {
   "cell_type": "code",
   "execution_count": 27,
   "metadata": {},
   "outputs": [],
   "source": [
    "speeches = ['Data\\\\speeches\\\\2017\\\\AGO_Martins_A_72_PV.23.json', 'Data\\\\speeches\\\\2017\\\\ALB_Rama_A_72_PV.15.json', 'Data\\\\speeches\\\\2017\\\\AND_Petit_A_72_PV.17.json', 'Data\\\\speeches\\\\2017\\\\ARE_Nahyan_A_72_PV.18.json', 'Data\\\\speeches\\\\2017\\\\ARG_Illia_A_72_PV.9.json', 'Data\\\\speeches\\\\2017\\\\ARM_Sargsyan_A_72_PV.5.json', 'Data\\\\speeches\\\\2017\\\\ATG_Browne_A_72_PV.14.json', 'Data\\\\speeches\\\\2017\\\\AUS_Bishop_A_72_PV.16.json', 'Data\\\\speeches\\\\2017\\\\AUT_Kurz_A_72_PV.6.json', 'Data\\\\speeches\\\\2017\\\\AZE_Aliyev_A_72_PV.7.json', 'Data\\\\speeches\\\\2017\\\\BDI_Nyamitwe_A_72_PV.21.json', 'Data\\\\speeches\\\\2017\\\\BEL_Michel_A_72_PV.15.json', 'Data\\\\speeches\\\\2017\\\\BEN_Agbenonci_A_72_PV.18.json', 'Data\\\\speeches\\\\2017\\\\BFA_Kabore_A_72_PV.11.json', 'Data\\\\speeches\\\\2017\\\\BGD_Hasina_A_72_PV.14.json', 'Data\\\\speeches\\\\2017\\\\BGR_Radev_A_72_PV.7.json', 'Data\\\\speeches\\\\2017\\\\BHR_Khalifa_A_72_PV.20.json', 'Data\\\\speeches\\\\2017\\\\BHS_Henfield_A_72_PV.20.json', 'Data\\\\speeches\\\\2017\\\\BIH_Covic_A_72_PV.7.json', 'Data\\\\speeches\\\\2017\\\\BLR_Makei_A_72_PV.14.json', 'Data\\\\speeches\\\\2017\\\\BLZ_Elrington_A_72_PV.18.json', 'Data\\\\speeches\\\\2017\\\\BOL_Ayma_A_72_PV.6.json', 'Data\\\\speeches\\\\2017\\\\BRB_McClean_A_72_PV.18.json', 'Data\\\\speeches\\\\2017\\\\BRN_Seng_A_72_PV.18.json', 'Data\\\\speeches\\\\2017\\\\BTN_Tobgay_A_72_PV.15.json', 'Data\\\\speeches\\\\2017\\\\bug_AFG_Ghani_A_72_PV.6.json', 'Data\\\\speeches\\\\2017\\\\bug_DNK_Tornaes_A_72_PV.14.json', 'Data\\\\speeches\\\\2017\\\\bug_PNG_Oneill_A_72_PV.19.json', 'Data\\\\speeches\\\\2017\\\\bug_TCD_Taha_A_72_PV.21.json', 'Data\\\\speeches\\\\2017\\\\BWA_Masisi_A_72_PV.12.json', 'Data\\\\speeches\\\\2017\\\\CAF_Touadera_A_72_PV.15.json', 'Data\\\\speeches\\\\2017\\\\CAN_Trudeau_A_72_PV.12.json', 'Data\\\\speeches\\\\2017\\\\CHL_Bachelet_A_72_PV.9.json', 'Data\\\\speeches\\\\2017\\\\CHN_Wang_A_72_PV.12.json', 'Data\\\\speeches\\\\2017\\\\CIV_Ouattara_A_72_PV.8.json', 'Data\\\\speeches\\\\2017\\\\CMR_Biya_A_72_PV.15.json', 'Data\\\\speeches\\\\2017\\\\COD_Kabange_A_72_PV.19.json', 'Data\\\\speeches\\\\2017\\\\COG_Nguesso_A_72_PV.9.json', 'Data\\\\speeches\\\\2017\\\\COL_Calderon_A_72_PV.4.json', 'Data\\\\speeches\\\\2017\\\\COM_Assoumani_A_72_PV.13.json', 'Data\\\\speeches\\\\2017\\\\CPV_e_A_72_PV.15.json', 'Data\\\\speeches\\\\2017\\\\CRI_Rivera_A_72_PV.5.json', 'Data\\\\speeches\\\\2017\\\\CUB_Parrilla_A_72_PV.16.json', 'Data\\\\speeches\\\\2017\\\\CYP_Anastasiades_A_72_PV.11.json', 'Data\\\\speeches\\\\2017\\\\DEU_Gabriel_A_72_PV.12.json', 'Data\\\\speeches\\\\2017\\\\DJI_Youssouf_A_72_PV.19.json', 'Data\\\\speeches\\\\2017\\\\DMA_Skerrit_A_72_PV.19.json', 'Data\\\\speeches\\\\2017\\\\DOM_Maldonado_A_72_PV.10.json', 'Data\\\\speeches\\\\2017\\\\DZA_Messahel_A_72_PV.16.json', 'Data\\\\speeches\\\\2017\\\\ECU_Garces_A_72_PV.9.json', 'Data\\\\speeches\\\\2017\\\\EGY_Sisi_A_72_PV.5.json', 'Data\\\\speeches\\\\2017\\\\ERI_Mohammed_A_72_PV.21.json', 'Data\\\\speeches\\\\2017\\\\ESP_Dastis_A_72_PV.14.json', 'Data\\\\speeches\\\\2017\\\\EST_Kaljulaid_A_72_PV.6.json', 'Data\\\\speeches\\\\2017\\\\ETH_Desalegn_A_72_PV.17.json', 'Data\\\\speeches\\\\2017\\\\FIN_Niinisto_A_72_PV.7.json', 'Data\\\\speeches\\\\2017\\\\FJI_Bainimarama_A_72_PV.10.json', 'Data\\\\speeches\\\\2017\\\\FRA_Macron_A_72_PV.4.json', 'Data\\\\speeches\\\\2017\\\\FSM_George_A_72_PV.19.json', 'Data\\\\speeches\\\\2017\\\\GAB_Ondimba_A_72_PV.11.json', 'Data\\\\speeches\\\\2017\\\\GBR_May_A_72_PV.8.json', 'Data\\\\speeches\\\\2017\\\\GEO_Kvirikashvili_A_72_PV.14.json', 'Data\\\\speeches\\\\2017\\\\GHA_Addo_A_72_PV.11.json', 'Data\\\\speeches\\\\2017\\\\GMB_Barrow_A_72_PV.6.json', 'Data\\\\speeches\\\\2017\\\\GNB_Embalo_A_72_PV.14.json', 'Data\\\\speeches\\\\2017\\\\GNQ_Nguema_A_72_PV.13.json', 'Data\\\\speeches\\\\2017\\\\GRC_Kotzias_A_72_PV.18.json', 'Data\\\\speeches\\\\2017\\\\GRD_Nimrod_A_72_PV.22.json', 'Data\\\\speeches\\\\2017\\\\GTM_Morales_A_72_PV.6.json', 'Data\\\\speeches\\\\2017\\\\GUY_Granger_A_72_PV.7.json', 'Data\\\\speeches\\\\2017\\\\HND_Alvarado_A_72_PV.6.json', 'Data\\\\speeches\\\\2017\\\\HRV_Plenkovic_A_72_PV.12.json', 'Data\\\\speeches\\\\2017\\\\HTI_Moise_A_72_PV.11.json', 'Data\\\\speeches\\\\2017\\\\HUN_Szijjarto_A_72_PV.16.json', 'Data\\\\speeches\\\\2017\\\\IDN_Kalla_A_72_PV.13.json', 'Data\\\\speeches\\\\2017\\\\IND_Swaraj_A_72_PV.19.json', 'Data\\\\speeches\\\\2017\\\\IRL_Coveney_A_72_PV.20.json', 'Data\\\\speeches\\\\2017\\\\IRN_Rouhani_A_72_PV.7.json', 'Data\\\\speeches\\\\2017\\\\IRQ_Jafari_A_72_PV.20.json', 'Data\\\\speeches\\\\2017\\\\ISL_Thordarson_A_72_PV.16.json', 'Data\\\\speeches\\\\2017\\\\ISR_Netanyahu_A_72_PV.4.json', 'Data\\\\speeches\\\\2017\\\\ITA_Silveri_A_72_PV.8.json', 'Data\\\\speeches\\\\2017\\\\JAM_Smith_A_72_PV.21.json', 'Data\\\\speeches\\\\2017\\\\JOR_II_A_72_PV.13.json', 'Data\\\\speeches\\\\2017\\\\JPN_Abe_A_72_PV.8.json', 'Data\\\\speeches\\\\2017\\\\KAZ_Abdrakhmanov_A_72_PV.14.json', 'Data\\\\speeches\\\\2017\\\\KEN_Mohamed_A_72_PV.16.json', 'Data\\\\speeches\\\\2017\\\\KGZ_Atambaev_A_72_PV.7.json', 'Data\\\\speeches\\\\2017\\\\KHM_Sokhonn_A_72_PV.17.json', 'Data\\\\speeches\\\\2017\\\\KIR_Maamau_A_72_PV.15.json', 'Data\\\\speeches\\\\2017\\\\KNA_Brantley_A_72_PV.22.json', 'Data\\\\speeches\\\\2017\\\\KOR_Moon_A_72_PV.11.json', 'Data\\\\speeches\\\\2017\\\\KWT_Sabah_A_72_PV.10.json', 'Data\\\\speeches\\\\2017\\\\LAO_Kommasith_A_72_PV.20.json', 'Data\\\\speeches\\\\2017\\\\LBN_Aoun_A_72_PV.11.json', 'Data\\\\speeches\\\\2017\\\\LBR_Sirleaf_A_72_PV.4.json', 'Data\\\\speeches\\\\2017\\\\LBY_Serraj_A_72_PV.10.json', 'Data\\\\speeches\\\\2017\\\\LCA_Chastanet_A_72_PV.16.json', 'Data\\\\speeches\\\\2017\\\\LIE_Frick_A_72_PV.18.json', 'Data\\\\speeches\\\\2017\\\\LKA_Sirisena_A_72_PV.6.json']"
   ]
  },
  {
   "cell_type": "code",
   "execution_count": 33,
   "metadata": {},
   "outputs": [
    {
     "data": {
      "text/plain": [
       "'AGO'"
      ]
     },
     "execution_count": 33,
     "metadata": {},
     "output_type": "execute_result"
    }
   ],
   "source": [
    "speeches[0].split(\"\\\\\")[-1].split(\"_\")[0]"
   ]
  },
  {
   "cell_type": "code",
   "execution_count": 35,
   "metadata": {},
   "outputs": [],
   "source": [
    "speeches = [speech.split(\"\\\\\")[-1].split(\"_\")[0] for speech in speeches]"
   ]
  },
  {
   "cell_type": "code",
   "execution_count": 38,
   "metadata": {},
   "outputs": [],
   "source": [
    "import numpy as np"
   ]
  },
  {
   "cell_type": "code",
   "execution_count": 48,
   "metadata": {},
   "outputs": [],
   "source": [
    "speeches = np.array(speeches)"
   ]
  },
  {
   "cell_type": "code",
   "execution_count": 54,
   "metadata": {},
   "outputs": [
    {
     "ename": "IndexError",
     "evalue": "index 0 is out of bounds for axis 0 with size 0",
     "output_type": "error",
     "traceback": [
      "\u001b[1;31m---------------------------------------------------------------------------\u001b[0m",
      "\u001b[1;31mIndexError\u001b[0m                                Traceback (most recent call last)",
      "\u001b[1;32m<ipython-input-54-504c1983e5b7>\u001b[0m in \u001b[0;36m<module>\u001b[1;34m\u001b[0m\n\u001b[1;32m----> 1\u001b[1;33m \u001b[0mnp\u001b[0m\u001b[1;33m.\u001b[0m\u001b[0mwhere\u001b[0m\u001b[1;33m(\u001b[0m\u001b[0mspeeches\u001b[0m \u001b[1;33m==\u001b[0m \u001b[1;34m\"adgadgad\"\u001b[0m\u001b[1;33m)\u001b[0m\u001b[1;33m[\u001b[0m\u001b[1;36m0\u001b[0m\u001b[1;33m]\u001b[0m\u001b[1;33m[\u001b[0m\u001b[1;36m0\u001b[0m\u001b[1;33m]\u001b[0m\u001b[1;33m\u001b[0m\u001b[1;33m\u001b[0m\u001b[0m\n\u001b[0m",
      "\u001b[1;31mIndexError\u001b[0m: index 0 is out of bounds for axis 0 with size 0"
     ]
    }
   ],
   "source": [
    "np.where(speeches == \"adgadgad\")[0][0]"
   ]
  },
  {
   "cell_type": "code",
   "execution_count": null,
   "metadata": {},
   "outputs": [],
   "source": []
  }
 ],
 "metadata": {
  "kernelspec": {
   "display_name": "Python 3",
   "language": "python",
   "name": "python3"
  },
  "language_info": {
   "codemirror_mode": {
    "name": "ipython",
    "version": 3
   },
   "file_extension": ".py",
   "mimetype": "text/x-python",
   "name": "python",
   "nbconvert_exporter": "python",
   "pygments_lexer": "ipython3",
   "version": "3.6.8"
  }
 },
 "nbformat": 4,
 "nbformat_minor": 2
}
